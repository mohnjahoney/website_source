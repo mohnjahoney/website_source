{
 "cells": [
  {
   "cell_type": "markdown",
   "metadata": {},
   "source": [
    "## This is an example jupyter notebook.\n",
    "\n",
    "Demo some things for reference:\n",
    "- make sure imports work\n",
    "- test plotting: %inline vs %notebook\n",
    "- import the whole notebook OR just selected pieces\n",
    "- does the notebook Markdown look OK when called into the webpage?\n",
    "- do the Markdown calls depend on the order of execution? or just the order in the notebook?\n",
    "\n",
    "As a test project, we'll look at the Fibonacci numbers and make some plots of their ratios."
   ]
  },
  {
   "cell_type": "code",
   "execution_count": 1,
   "metadata": {},
   "outputs": [],
   "source": [
    "import numpy as np\n",
    "import matplotlib.pyplot as plt\n",
    "%matplotlib inline"
   ]
  },
  {
   "cell_type": "markdown",
   "metadata": {},
   "source": [
    "Which versions of these packages will be found?\n",
    "\n",
    "This notebook won't be running live on the website, so this will just depend on how I execute the cells locally.\n",
    "One question is whether or not this will be impacted by the virtual environment (that I am typically in when working on the site).\n",
    "\n",
    "You can see below that it is independent of the virtual environment."
   ]
  },
  {
   "cell_type": "code",
   "execution_count": 2,
   "metadata": {},
   "outputs": [
    {
     "name": "stdout",
     "output_type": "stream",
     "text": [
      "1.19.5\n",
      "/usr/local/lib/python3.8/site-packages/numpy/__init__.py\n",
      "6.0.7\n",
      "/usr/local/lib/python3.8/site-packages/nbconvert/__init__.py\n"
     ]
    }
   ],
   "source": [
    "print(np.__version__)\n",
    "print(np.__file__)\n",
    "\n",
    "# This is something I know my site venv imports as an old version.\n",
    "import nbconvert\n",
    "print(nbconvert.__version__)\n",
    "print(nbconvert.__file__)"
   ]
  },
  {
   "cell_type": "markdown",
   "metadata": {},
   "source": [
    "### Now let's do some example coding and plotting."
   ]
  },
  {
   "cell_type": "code",
   "execution_count": 3,
   "metadata": {},
   "outputs": [],
   "source": [
    "def fib(a, b, n):\n",
    "    \"\"\"Using `a` and `b` as seeds, return the n'th Fibonacci number.\n",
    "    \n",
    "    Example:\n",
    "    a = 2, b = 5, n = 6\n",
    "    \n",
    "    Compute like this:\n",
    "    (2, 5, 2 + 5 = 7, 5 + 7 = 12, 7 + 12 = 19, 12 + 19 = 31)\n",
    "    \"\"\"\n",
    "    \n",
    "    seq = [a, b]\n",
    "    for i in range(n-2):\n",
    "        seq.append(seq[-1] + seq[-2])\n",
    "    return seq"
   ]
  },
  {
   "cell_type": "markdown",
   "metadata": {},
   "source": [
    "### Let's test this function."
   ]
  },
  {
   "cell_type": "code",
   "execution_count": 4,
   "metadata": {},
   "outputs": [
    {
     "name": "stdout",
     "output_type": "stream",
     "text": [
      "[0, 1, 1, 2, 3, 5, 8, 13, 21, 34]\n",
      "[5, 6, 11, 17, 28, 45, 73, 118, 191, 309]\n"
     ]
    }
   ],
   "source": [
    "a = 0\n",
    "b = 1\n",
    "print(fib(a, b, 10))\n",
    "\n",
    "a = 5\n",
    "b = 6\n",
    "print(fib(a, b, 10))"
   ]
  },
  {
   "cell_type": "markdown",
   "metadata": {},
   "source": [
    "### Let's look at the ratio of successive Fibonacci numbers for various choices of the seeds."
   ]
  },
  {
   "cell_type": "code",
   "execution_count": 5,
   "metadata": {},
   "outputs": [],
   "source": [
    "def ratio_plot(seq, ax=None):\n",
    "    \n",
    "    seq = np.array(seq)\n",
    "    \n",
    "    if ax is None:\n",
    "        fig = plt.figure()\n",
    "        ax = fig.gca()\n",
    "    plt.plot(seq[1:] / seq[:-1], 'o-')"
   ]
  },
  {
   "cell_type": "markdown",
   "metadata": {},
   "source": [
    "### Plot one sequence of ratios."
   ]
  },
  {
   "cell_type": "code",
   "execution_count": 6,
   "metadata": {},
   "outputs": [
    {
     "name": "stderr",
     "output_type": "stream",
     "text": [
      "<ipython-input-5-9e1244002184>:8: RuntimeWarning: divide by zero encountered in true_divide\n",
      "  plt.plot(seq[1:] / seq[:-1], 'o-')\n"
     ]
    },
    {
     "data": {
      "image/png": "[encoded data removed]",
      "text/plain": [
       "<Figure size 432x288 with 1 Axes>"
      ]
     },
     "metadata": {
      "needs_background": "light"
     },
     "output_type": "display_data"
    }
   ],
   "source": [
    "a = 0\n",
    "b = 1\n",
    "seq = fib(a, b, 10)\n",
    "\n",
    "ratio_plot(seq)"
   ]
  },
  {
   "cell_type": "markdown",
   "metadata": {},
   "source": [
    "### Notice that the ratio seems to be stabilizing around 1.6 or so.\n",
    "\n",
    "### Now let's do this for many seed combinations."
   ]
  },
  {
   "cell_type": "code",
   "execution_count": 7,
   "metadata": {},
   "outputs": [
    {
     "name": "stderr",
     "output_type": "stream",
     "text": [
      "<ipython-input-5-9e1244002184>:8: RuntimeWarning: invalid value encountered in true_divide\n",
      "  plt.plot(seq[1:] / seq[:-1], 'o-')\n",
      "<ipython-input-5-9e1244002184>:8: RuntimeWarning: divide by zero encountered in true_divide\n",
      "  plt.plot(seq[1:] / seq[:-1], 'o-')\n",
      "<ipython-input-5-9e1244002184>:8: RuntimeWarning: divide by zero encountered in true_divide\n",
      "  plt.plot(seq[1:] / seq[:-1], 'o-')\n",
      "<ipython-input-5-9e1244002184>:8: RuntimeWarning: divide by zero encountered in true_divide\n",
      "  plt.plot(seq[1:] / seq[:-1], 'o-')\n",
      "<ipython-input-5-9e1244002184>:8: RuntimeWarning: divide by zero encountered in true_divide\n",
      "  plt.plot(seq[1:] / seq[:-1], 'o-')\n",
      "<ipython-input-5-9e1244002184>:8: RuntimeWarning: divide by zero encountered in true_divide\n",
      "  plt.plot(seq[1:] / seq[:-1], 'o-')\n",
      "<ipython-input-5-9e1244002184>:8: RuntimeWarning: divide by zero encountered in true_divide\n",
      "  plt.plot(seq[1:] / seq[:-1], 'o-')\n"
     ]
    },
    {
     "data": {
      "image/png": "[encoded data removed]",
      "text/plain": [
       "<Figure size 432x288 with 1 Axes>"
      ]
     },
     "metadata": {
      "needs_background": "light"
     },
     "output_type": "display_data"
    }
   ],
   "source": [
    "fig = plt.figure()\n",
    "ax = fig.gca()\n",
    "\n",
    "n = 10\n",
    "\n",
    "for a in range(4):\n",
    "    for b in range(4):\n",
    "        seq = fib(a, b, n)\n",
    "        ratio_plot(seq, ax=ax)"
   ]
  },
  {
   "cell_type": "markdown",
   "metadata": {},
   "source": [
    "### Observations:\n",
    "\n",
    "- Ratios of successive Fibonacci numbers approach some constant value.\n",
    "- The constant value appears to be roughly 1.6 independent of the seeds."
   ]
  },
  {
   "cell_type": "markdown",
   "metadata": {},
   "source": [
    "### Can we derive this value?\n",
    "\n",
    "Let's see what the $\\LaTeX$ rendering looks like..\n",
    "\n",
    "Assume there is some value $a$ that is the limit of this sequence of ratios.\n",
    "\n",
    "Consider three adjacent values in the sequence $(x, y, x + y)$ near to the limit (making use of the physicist lemma).\n",
    "\n",
    "Then the two ratios will be the same.\n",
    "\n",
    "$$ \\frac{y}{x} = \\frac{x + y}{y} $$\n",
    "\n",
    "We can scale the entire sequence so $x = 1$.\n",
    "\n",
    "$$ \\frac{y}{1} = \\frac{1 + y}{y} $$\n",
    "\n",
    "And rearrange.\n",
    "\n",
    "$$ y^2 - y - 1 = 0 $$\n",
    "\n",
    "Solving for the roots we find:\n",
    "\n",
    "$$ y_+ = \\frac{1 + \\sqrt{5}}{2} , y_- = \\frac{1 - \\sqrt{5}}{2} $$\n",
    "\n",
    "$$ y_+ \\simeq 1.618 , y_- \\simeq -0.618 $$"
   ]
  },
  {
   "cell_type": "markdown",
   "metadata": {},
   "source": [
    "## Congrats! We uncovered the \"golden ratio\" $\\phi = 1.618...$.\n",
    "\n",
    "Armed with this information we are ready to build famous buildings, write magnificent symphonies, and film epic Hollywood movies."
   ]
  },
  {
   "cell_type": "markdown",
   "metadata": {},
   "source": [
    "### Fewer have explored the lesser-known \"ochre ratio\" $ \\theta = -0.618... $."
   ]
  },
  {
   "cell_type": "code",
   "execution_count": 8,
   "metadata": {},
   "outputs": [
    {
     "data": {
      "text/plain": [
       "(-2.0, 2.0)"
      ]
     },
     "execution_count": 8,
     "metadata": {},
     "output_type": "execute_result"
    },
    {
     "data": {
      "image/png": "[encoded data removed]",
      "text/plain": [
       "<Figure size 432x288 with 1 Axes>"
      ]
     },
     "metadata": {
      "needs_background": "light"
     },
     "output_type": "display_data"
    }
   ],
   "source": [
    "a = 1\n",
    "ochre = (1 - 5**0.5)/2\n",
    "seq = fib(a, ochre, 10)\n",
    "\n",
    "ratio_plot(seq)\n",
    "plt.ylim(-2, 2)"
   ]
  },
  {
   "cell_type": "markdown",
   "metadata": {},
   "source": [
    "### This ratio has been important in things such as ultra-flat tables, horizon-design, and the limiting behavior of EEGs."
   ]
  },
  {
   "cell_type": "code",
   "execution_count": null,
   "metadata": {},
   "outputs": [],
   "source": []
  }
 ],
 "metadata": {
  "kernelspec": {
   "display_name": "Python 3.6.4 64-bit",
   "language": "python",
   "name": "python36464bit6ca063b3af97418eab87ed75309c9621"
  },
  "language_info": {
   "codemirror_mode": {
    "name": "ipython",
    "version": 3
   },
   "file_extension": ".py",
   "mimetype": "text/x-python",
   "name": "python",
   "nbconvert_exporter": "python",
   "pygments_lexer": "ipython3",
   "version": "3.8.5"
  }
 },
 "nbformat": 4,
 "nbformat_minor": 2
}
